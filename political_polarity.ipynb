{
  "nbformat": 4,
  "nbformat_minor": 0,
  "metadata": {
    "colab": {
      "name": "political_polarity.ipynb",
      "provenance": []
    },
    "kernelspec": {
      "name": "python3",
      "display_name": "Python 3"
    },
    "language_info": {
      "name": "python"
    }
  },
  "cells": [
    {
      "cell_type": "code",
      "execution_count": null,
      "metadata": {
        "id": "2jWELoNOmiFY"
      },
      "outputs": [],
      "source": [
        "import pandas as pd\n",
        "from textblob import TextBlob"
      ]
    },
    {
      "cell_type": "code",
      "source": [
        "from google.colab import drive\n",
        "drive.mount('/content/drive')"
      ],
      "metadata": {
        "id": "6cOYh1ZFVj_P"
      },
      "execution_count": null,
      "outputs": []
    },
    {
      "cell_type": "code",
      "source": [
        "#mount gdrive to access files in google drive\n",
        "from google.colab import drive\n",
        "drive.mount('/content/gdrive')"
      ],
      "metadata": {
        "colab": {
          "base_uri": "https://localhost:8080/"
        },
        "id": "QK6cMcLXtMRo",
        "outputId": "4c2636bb-26e8-4b54-e1bc-0ef93cb53c7f"
      },
      "execution_count": null,
      "outputs": [
        {
          "output_type": "stream",
          "name": "stdout",
          "text": [
            "Mounted at /content/gdrive\n"
          ]
        }
      ]
    },
    {
      "cell_type": "code",
      "source": [
        "#i added a shortcut to the Cleaned_2_data.csv file in a folder in my personal drive called cs_490\n",
        "#change path for other users\n",
        "df = pd.read_csv('/content/gdrive/MyDrive/cs_490/Cleaned_2_data.csv').dropna()\n",
        "df = df.drop(columns=['Unnamed: 0', 'Unnamed: 0.1'])"
      ],
      "metadata": {
        "id": "yb54liwbt-iM"
      },
      "execution_count": null,
      "outputs": []
    },
    {
      "cell_type": "code",
      "source": [
        "#function to be passed to df.apply() to calculate polarity and subjectivity of opinion\n",
        "def calc_pol_and_sub(text):\n",
        "  sent = TextBlob(text).sentiment\n",
        "  polarity = sent.polarity\n",
        "  subjectivity = sent.subjectivity\n",
        "  return (polarity, subjectivity)\n",
        "\n",
        "#apply calc_pol_and_sub down Opinion column and append results to df\n",
        "pol_and_sub = df.apply(lambda row: calc_pol_and_sub(row['Opinion']), axis=1, result_type='expand')\n",
        "pol_and_sub.rename(columns={0: 'polarity', 1: 'subjectivity'}, inplace=True)\n",
        "df = pd.concat([df, pol_and_sub], axis=1)"
      ],
      "metadata": {
        "id": "xOAqaj4su1Go"
      },
      "execution_count": null,
      "outputs": []
    },
    {
      "cell_type": "code",
      "source": [
        "print(df)\n",
        "print(df[['polarity', 'subjectivity']].describe())\n",
        "\n",
        "#change path for other users\n",
        "#uncomment to resave csv\n",
        "#df.to_csv(\"/content/gdrive/MyDrive/cs_490/cleaned_2_with_pol_and_sub.csv\")"
      ],
      "metadata": {
        "colab": {
          "base_uri": "https://localhost:8080/"
        },
        "id": "DOkeDvWgzIs9",
        "outputId": "20b87dc9-dda6-4fe7-cab4-4911706da28a"
      },
      "execution_count": null,
      "outputs": [
        {
          "output_type": "stream",
          "name": "stdout",
          "text": [
            "      Court_id   Case_id                                            Opinion  \\\n",
            "0            1  21-01566  case document page date file entry i would uni...   \n",
            "1            1  19-01622  case document page date file entry i would uni...   \n",
            "2            1  20-01434  case document page date file entry i would uni...   \n",
            "3            1  19-02104  case document page date file entry i would uni...   \n",
            "4            1  20-01942  case document page date file entry i would uni...   \n",
            "...        ...       ...                                                ...   \n",
            "5995        12  21-05080  usca case document file page unite state court...   \n",
            "5996        12  20-01045  usca case document file page unite state court...   \n",
            "5997        12  19-05199  usca case document file page unite state court...   \n",
            "5998        12  20-07110  usca case document file page unite state court...   \n",
            "5999        12  18-03070  usca case document file page unite state court...   \n",
            "\n",
            "      polarity  subjectivity  \n",
            "0    -0.008936      0.401245  \n",
            "1    -0.106620      0.278253  \n",
            "2     0.028602      0.431929  \n",
            "3     0.030171      0.392388  \n",
            "4     0.005378      0.432479  \n",
            "...        ...           ...  \n",
            "5995  0.045004      0.375472  \n",
            "5996  0.045574      0.444695  \n",
            "5997  0.020317      0.369919  \n",
            "5998 -0.014878      0.371536  \n",
            "5999 -0.031926      0.404432  \n",
            "\n",
            "[6000 rows x 5 columns]\n",
            "          polarity  subjectivity\n",
            "count  6000.000000   6000.000000\n",
            "mean      0.003425      0.412522\n",
            "std       0.074028      0.092332\n",
            "min      -0.646875      0.000000\n",
            "25%      -0.036132      0.369453\n",
            "50%       0.006678      0.421512\n",
            "75%       0.046777      0.465016\n",
            "max       0.542857      1.000000\n"
          ]
        }
      ]
    },
    {
      "cell_type": "code",
      "source": [
        "import seaborn as sns\n",
        "from google.colab import files\n",
        "import matplotlib.pyplot as plt\n",
        "\n",
        "df = pd.read_csv('/content/gdrive/MyDrive/cs_490/cleaned_2_with_pol_and_sub.csv')\n",
        "sns.set(style=\"darkgrid\")\n",
        "\n",
        "sns.histplot(data=df, x=\"polarity\", bins=20).set(title='Polarity Histogram')\n",
        "plt.xlabel('Polarity')\n",
        "files.download('polarity_histogram.png')\n",
        "plt.show()"
      ],
      "metadata": {
        "colab": {
          "base_uri": "https://localhost:8080/",
          "height": 301
        },
        "id": "I381CrRcXhkk",
        "outputId": "1ccb63f8-e033-4140-c3b2-2144e2f46107"
      },
      "execution_count": null,
      "outputs": [
        {
          "output_type": "display_data",
          "data": {
            "text/plain": [
              "<IPython.core.display.Javascript object>"
            ],
            "application/javascript": [
              "\n",
              "    async function download(id, filename, size) {\n",
              "      if (!google.colab.kernel.accessAllowed) {\n",
              "        return;\n",
              "      }\n",
              "      const div = document.createElement('div');\n",
              "      const label = document.createElement('label');\n",
              "      label.textContent = `Downloading \"${filename}\": `;\n",
              "      div.appendChild(label);\n",
              "      const progress = document.createElement('progress');\n",
              "      progress.max = size;\n",
              "      div.appendChild(progress);\n",
              "      document.body.appendChild(div);\n",
              "\n",
              "      const buffers = [];\n",
              "      let downloaded = 0;\n",
              "\n",
              "      const channel = await google.colab.kernel.comms.open(id);\n",
              "      // Send a message to notify the kernel that we're ready.\n",
              "      channel.send({})\n",
              "\n",
              "      for await (const message of channel.messages) {\n",
              "        // Send a message to notify the kernel that we're ready.\n",
              "        channel.send({})\n",
              "        if (message.buffers) {\n",
              "          for (const buffer of message.buffers) {\n",
              "            buffers.push(buffer);\n",
              "            downloaded += buffer.byteLength;\n",
              "            progress.value = downloaded;\n",
              "          }\n",
              "        }\n",
              "      }\n",
              "      const blob = new Blob(buffers, {type: 'application/binary'});\n",
              "      const a = document.createElement('a');\n",
              "      a.href = window.URL.createObjectURL(blob);\n",
              "      a.download = filename;\n",
              "      div.appendChild(a);\n",
              "      a.click();\n",
              "      div.remove();\n",
              "    }\n",
              "  "
            ]
          },
          "metadata": {}
        },
        {
          "output_type": "display_data",
          "data": {
            "text/plain": [
              "<IPython.core.display.Javascript object>"
            ],
            "application/javascript": [
              "download(\"download_757da207-1f77-4ecc-b468-a6e28b246804\", \"polarity_histogram.png\", 10881)"
            ]
          },
          "metadata": {}
        },
        {
          "output_type": "display_data",
          "data": {
            "text/plain": [
              "<Figure size 432x288 with 1 Axes>"
            ],
            "image/png": "[encoded data removed]"
          },
          "metadata": {}
        }
      ]
    },
    {
      "cell_type": "code",
      "source": [
        "sns.histplot(data=df, x='subjectivity', bins=20).set(title='Subjectivity Histogram')\n",
        "plt.xlabel('Subjectivity')\n",
        "plt.savefig('subjectivity_histogram.png')\n",
        "files.download('subjectivity_histogram.png')\n",
        "plt.show()"
      ],
      "metadata": {
        "colab": {
          "base_uri": "https://localhost:8080/",
          "height": 301
        },
        "id": "p6EPpxfilvbq",
        "outputId": "8181390b-97b5-48ac-8585-f5985805f16c"
      },
      "execution_count": null,
      "outputs": [
        {
          "output_type": "display_data",
          "data": {
            "text/plain": [
              "<IPython.core.display.Javascript object>"
            ],
            "application/javascript": [
              "\n",
              "    async function download(id, filename, size) {\n",
              "      if (!google.colab.kernel.accessAllowed) {\n",
              "        return;\n",
              "      }\n",
              "      const div = document.createElement('div');\n",
              "      const label = document.createElement('label');\n",
              "      label.textContent = `Downloading \"${filename}\": `;\n",
              "      div.appendChild(label);\n",
              "      const progress = document.createElement('progress');\n",
              "      progress.max = size;\n",
              "      div.appendChild(progress);\n",
              "      document.body.appendChild(div);\n",
              "\n",
              "      const buffers = [];\n",
              "      let downloaded = 0;\n",
              "\n",
              "      const channel = await google.colab.kernel.comms.open(id);\n",
              "      // Send a message to notify the kernel that we're ready.\n",
              "      channel.send({})\n",
              "\n",
              "      for await (const message of channel.messages) {\n",
              "        // Send a message to notify the kernel that we're ready.\n",
              "        channel.send({})\n",
              "        if (message.buffers) {\n",
              "          for (const buffer of message.buffers) {\n",
              "            buffers.push(buffer);\n",
              "            downloaded += buffer.byteLength;\n",
              "            progress.value = downloaded;\n",
              "          }\n",
              "        }\n",
              "      }\n",
              "      const blob = new Blob(buffers, {type: 'application/binary'});\n",
              "      const a = document.createElement('a');\n",
              "      a.href = window.URL.createObjectURL(blob);\n",
              "      a.download = filename;\n",
              "      div.appendChild(a);\n",
              "      a.click();\n",
              "      div.remove();\n",
              "    }\n",
              "  "
            ]
          },
          "metadata": {}
        },
        {
          "output_type": "display_data",
          "data": {
            "text/plain": [
              "<IPython.core.display.Javascript object>"
            ],
            "application/javascript": [
              "download(\"download_53abc7b7-ec62-4aed-98d1-bcdec6eb96c8\", \"subjectivity_histogram.png\", 11081)"
            ]
          },
          "metadata": {}
        },
        {
          "output_type": "display_data",
          "data": {
            "text/plain": [
              "<Figure size 432x288 with 1 Axes>"
            ],
            "image/png": "[encoded data removed]"
          },
          "metadata": {}
        }
      ]
    },
    {
      "cell_type": "code",
      "source": [
        "sns.boxplot(data=df, x='polarity', showfliers=False).set(title='Polarity Box and Whisker')\n",
        "plt.xlabel('Polarity')\n",
        "plt.savefig('polarity_box_and_whisker.png')\n",
        "files.download('polarity_box_and_whisker.png')\n",
        "plt.show()"
      ],
      "metadata": {
        "colab": {
          "base_uri": "https://localhost:8080/",
          "height": 301
        },
        "id": "ZjJ4MkYXoAA1",
        "outputId": "627037c6-3550-48d0-b5c1-7307d3959a17"
      },
      "execution_count": null,
      "outputs": [
        {
          "output_type": "display_data",
          "data": {
            "text/plain": [
              "<IPython.core.display.Javascript object>"
            ],
            "application/javascript": [
              "\n",
              "    async function download(id, filename, size) {\n",
              "      if (!google.colab.kernel.accessAllowed) {\n",
              "        return;\n",
              "      }\n",
              "      const div = document.createElement('div');\n",
              "      const label = document.createElement('label');\n",
              "      label.textContent = `Downloading \"${filename}\": `;\n",
              "      div.appendChild(label);\n",
              "      const progress = document.createElement('progress');\n",
              "      progress.max = size;\n",
              "      div.appendChild(progress);\n",
              "      document.body.appendChild(div);\n",
              "\n",
              "      const buffers = [];\n",
              "      let downloaded = 0;\n",
              "\n",
              "      const channel = await google.colab.kernel.comms.open(id);\n",
              "      // Send a message to notify the kernel that we're ready.\n",
              "      channel.send({})\n",
              "\n",
              "      for await (const message of channel.messages) {\n",
              "        // Send a message to notify the kernel that we're ready.\n",
              "        channel.send({})\n",
              "        if (message.buffers) {\n",
              "          for (const buffer of message.buffers) {\n",
              "            buffers.push(buffer);\n",
              "            downloaded += buffer.byteLength;\n",
              "            progress.value = downloaded;\n",
              "          }\n",
              "        }\n",
              "      }\n",
              "      const blob = new Blob(buffers, {type: 'application/binary'});\n",
              "      const a = document.createElement('a');\n",
              "      a.href = window.URL.createObjectURL(blob);\n",
              "      a.download = filename;\n",
              "      div.appendChild(a);\n",
              "      a.click();\n",
              "      div.remove();\n",
              "    }\n",
              "  "
            ]
          },
          "metadata": {}
        },
        {
          "output_type": "display_data",
          "data": {
            "text/plain": [
              "<IPython.core.display.Javascript object>"
            ],
            "application/javascript": [
              "download(\"download_1169f0fb-fa90-488f-b91f-f8f4c3eed022\", \"polarity_box_and_whisker.png\", 6570)"
            ]
          },
          "metadata": {}
        },
        {
          "output_type": "display_data",
          "data": {
            "text/plain": [
              "<Figure size 432x288 with 1 Axes>"
            ],
            "image/png": "[encoded data removed]"
          },
          "metadata": {}
        }
      ]
    },
    {
      "cell_type": "code",
      "source": [
        "sns.boxplot(data=df, x='subjectivity', showfliers=False).set(title='Subjectivity Box and Whisker')\n",
        "plt.xlabel('Subjectivity')\n",
        "plt.savefig('subjectivity_box_and_whisker.png')\n",
        "files.download('subjectivity_box_and_whisker.png')\n",
        "plt.show()"
      ],
      "metadata": {
        "colab": {
          "base_uri": "https://localhost:8080/",
          "height": 301
        },
        "id": "3at1s8iXovur",
        "outputId": "52fb312c-01fb-4ab8-841d-1b3f002571c7"
      },
      "execution_count": null,
      "outputs": [
        {
          "output_type": "display_data",
          "data": {
            "text/plain": [
              "<IPython.core.display.Javascript object>"
            ],
            "application/javascript": [
              "\n",
              "    async function download(id, filename, size) {\n",
              "      if (!google.colab.kernel.accessAllowed) {\n",
              "        return;\n",
              "      }\n",
              "      const div = document.createElement('div');\n",
              "      const label = document.createElement('label');\n",
              "      label.textContent = `Downloading \"${filename}\": `;\n",
              "      div.appendChild(label);\n",
              "      const progress = document.createElement('progress');\n",
              "      progress.max = size;\n",
              "      div.appendChild(progress);\n",
              "      document.body.appendChild(div);\n",
              "\n",
              "      const buffers = [];\n",
              "      let downloaded = 0;\n",
              "\n",
              "      const channel = await google.colab.kernel.comms.open(id);\n",
              "      // Send a message to notify the kernel that we're ready.\n",
              "      channel.send({})\n",
              "\n",
              "      for await (const message of channel.messages) {\n",
              "        // Send a message to notify the kernel that we're ready.\n",
              "        channel.send({})\n",
              "        if (message.buffers) {\n",
              "          for (const buffer of message.buffers) {\n",
              "            buffers.push(buffer);\n",
              "            downloaded += buffer.byteLength;\n",
              "            progress.value = downloaded;\n",
              "          }\n",
              "        }\n",
              "      }\n",
              "      const blob = new Blob(buffers, {type: 'application/binary'});\n",
              "      const a = document.createElement('a');\n",
              "      a.href = window.URL.createObjectURL(blob);\n",
              "      a.download = filename;\n",
              "      div.appendChild(a);\n",
              "      a.click();\n",
              "      div.remove();\n",
              "    }\n",
              "  "
            ]
          },
          "metadata": {}
        },
        {
          "output_type": "display_data",
          "data": {
            "text/plain": [
              "<IPython.core.display.Javascript object>"
            ],
            "application/javascript": [
              "download(\"download_8aa14293-fdb6-42cc-b866-6a9a49ba674d\", \"subjectivity_box_and_whisker.png\", 7889)"
            ]
          },
          "metadata": {}
        },
        {
          "output_type": "display_data",
          "data": {
            "text/plain": [
              "<Figure size 432x288 with 1 Axes>"
            ],
            "image/png": "[encoded data removed]"
          },
          "metadata": {}
        }
      ]
    }
  ]
}